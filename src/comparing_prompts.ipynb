{
 "cells": [
  {
   "cell_type": "markdown",
   "metadata": {},
   "source": [
    "This Notebook compares recommendations made by GROQ  based on several prompts."
   ]
  },
  {
   "cell_type": "code",
   "execution_count": 24,
   "metadata": {},
   "outputs": [],
   "source": [
    "import pandas as pd"
   ]
  },
  {
   "cell_type": "markdown",
   "metadata": {},
   "source": [
    "Building the Training Data"
   ]
  },
  {
   "cell_type": "code",
   "execution_count": 25,
   "metadata": {},
   "outputs": [],
   "source": [
    "train = pd.read_csv('../data/train.csv')"
   ]
  },
  {
   "cell_type": "code",
   "execution_count": 26,
   "metadata": {},
   "outputs": [
    {
     "data": {
      "text/html": [
       "<div>\n",
       "<style scoped>\n",
       "    .dataframe tbody tr th:only-of-type {\n",
       "        vertical-align: middle;\n",
       "    }\n",
       "\n",
       "    .dataframe tbody tr th {\n",
       "        vertical-align: top;\n",
       "    }\n",
       "\n",
       "    .dataframe thead th {\n",
       "        text-align: right;\n",
       "    }\n",
       "</style>\n",
       "<table border=\"1\" class=\"dataframe\">\n",
       "  <thead>\n",
       "    <tr style=\"text-align: right;\">\n",
       "      <th></th>\n",
       "      <th>user_id</th>\n",
       "      <th>movie_id</th>\n",
       "      <th>rating</th>\n",
       "      <th>timestamp</th>\n",
       "      <th>movie_title</th>\n",
       "      <th>genres</th>\n",
       "      <th>avg_rating</th>\n",
       "    </tr>\n",
       "  </thead>\n",
       "  <tbody>\n",
       "    <tr>\n",
       "      <th>0</th>\n",
       "      <td>259</td>\n",
       "      <td>255</td>\n",
       "      <td>4</td>\n",
       "      <td>874724710</td>\n",
       "      <td>My Best Friend's Wedding (1997)</td>\n",
       "      <td>Romance</td>\n",
       "      <td>4.0</td>\n",
       "    </tr>\n",
       "    <tr>\n",
       "      <th>1</th>\n",
       "      <td>259</td>\n",
       "      <td>286</td>\n",
       "      <td>4</td>\n",
       "      <td>874724727</td>\n",
       "      <td>English Patient, The (1996)</td>\n",
       "      <td>Romance, War</td>\n",
       "      <td>4.0</td>\n",
       "    </tr>\n",
       "    <tr>\n",
       "      <th>2</th>\n",
       "      <td>259</td>\n",
       "      <td>298</td>\n",
       "      <td>4</td>\n",
       "      <td>874724754</td>\n",
       "      <td>Face/Off (1997)</td>\n",
       "      <td>Action, Sci-Fi, Thriller</td>\n",
       "      <td>4.0</td>\n",
       "    </tr>\n",
       "    <tr>\n",
       "      <th>3</th>\n",
       "      <td>259</td>\n",
       "      <td>185</td>\n",
       "      <td>4</td>\n",
       "      <td>874724781</td>\n",
       "      <td>Psycho (1960)</td>\n",
       "      <td>Horror, Romance, Thriller</td>\n",
       "      <td>4.0</td>\n",
       "    </tr>\n",
       "    <tr>\n",
       "      <th>4</th>\n",
       "      <td>259</td>\n",
       "      <td>173</td>\n",
       "      <td>4</td>\n",
       "      <td>874724843</td>\n",
       "      <td>Princess Bride, The (1987)</td>\n",
       "      <td>Action, Adventure, Romance</td>\n",
       "      <td>4.0</td>\n",
       "    </tr>\n",
       "  </tbody>\n",
       "</table>\n",
       "</div>"
      ],
      "text/plain": [
       "   user_id  movie_id  rating  timestamp                      movie_title  \\\n",
       "0      259       255       4  874724710  My Best Friend's Wedding (1997)   \n",
       "1      259       286       4  874724727      English Patient, The (1996)   \n",
       "2      259       298       4  874724754                  Face/Off (1997)   \n",
       "3      259       185       4  874724781                    Psycho (1960)   \n",
       "4      259       173       4  874724843       Princess Bride, The (1987)   \n",
       "\n",
       "                       genres  avg_rating  \n",
       "0                     Romance         4.0  \n",
       "1                Romance, War         4.0  \n",
       "2    Action, Sci-Fi, Thriller         4.0  \n",
       "3   Horror, Romance, Thriller         4.0  \n",
       "4  Action, Adventure, Romance         4.0  "
      ]
     },
     "execution_count": 26,
     "metadata": {},
     "output_type": "execute_result"
    }
   ],
   "source": [
    "train.head()"
   ]
  },
  {
   "cell_type": "markdown",
   "metadata": {},
   "source": [
    "The movies each user has watched in the training data"
   ]
  },
  {
   "cell_type": "code",
   "execution_count": 27,
   "metadata": {},
   "outputs": [
    {
     "name": "stderr",
     "output_type": "stream",
     "text": [
      "C:\\Users\\Admin\\AppData\\Local\\Temp\\ipykernel_2452\\3806896237.py:1: DeprecationWarning: DataFrameGroupBy.apply operated on the grouping columns. This behavior is deprecated, and in a future version of pandas the grouping columns will be excluded from the operation. Either pass `include_groups=False` to exclude the groupings or explicitly select the grouping columns after groupby to silence this warning.\n",
      "  user_movies = train.groupby('user_id').apply(lambda x: x['movie_title'].tolist())\n"
     ]
    }
   ],
   "source": [
    "user_movies = train.groupby('user_id').apply(lambda x: x['movie_title'].tolist())"
   ]
  },
  {
   "cell_type": "code",
   "execution_count": 28,
   "metadata": {},
   "outputs": [],
   "source": [
    "\"\"\" Number of users to run the recommender on\n",
    "    (Use a small sample for faster results)\n",
    "    If you want to run the recommender on all users, uncomment the last line\n",
    "\"\"\"\n",
    "num_users = 20\n",
    "\n",
    "# Uncomment below to run on all users\n",
    "# n = user_movies.shape[0]"
   ]
  },
  {
   "cell_type": "markdown",
   "metadata": {},
   "source": [
    "The most recent movies each user has watched."
   ]
  },
  {
   "cell_type": "code",
   "execution_count": 29,
   "metadata": {},
   "outputs": [
    {
     "name": "stderr",
     "output_type": "stream",
     "text": [
      "C:\\Users\\Admin\\AppData\\Local\\Temp\\ipykernel_2452\\117843240.py:2: DeprecationWarning: DataFrameGroupBy.apply operated on the grouping columns. This behavior is deprecated, and in a future version of pandas the grouping columns will be excluded from the operation. Either pass `include_groups=False` to exclude the groupings or explicitly select the grouping columns after groupby to silence this warning.\n",
      "  return dataframe.groupby('user_id').apply(lambda x: x['movie_title'].tail(n).to_list())\n"
     ]
    }
   ],
   "source": [
    "def get_user_recent_movies(dataframe, n = 10):\n",
    "    return dataframe.groupby('user_id').apply(lambda x: x['movie_title'].tail(n).to_list())\n",
    "\n",
    "user_recent_movies = get_user_recent_movies(train)"
   ]
  },
  {
   "cell_type": "markdown",
   "metadata": {},
   "source": [
    "The movies each user rated highly."
   ]
  },
  {
   "cell_type": "code",
   "execution_count": 30,
   "metadata": {},
   "outputs": [
    {
     "name": "stderr",
     "output_type": "stream",
     "text": [
      "C:\\Users\\Admin\\AppData\\Local\\Temp\\ipykernel_2452\\1365838253.py:2: DeprecationWarning: DataFrameGroupBy.apply operated on the grouping columns. This behavior is deprecated, and in a future version of pandas the grouping columns will be excluded from the operation. Either pass `include_groups=False` to exclude the groupings or explicitly select the grouping columns after groupby to silence this warning.\n",
      "  return dataframe.groupby('user_id').apply(lambda x: x.sort_values('rating', ascending=False).head(n)['movie_title'].to_list())\n"
     ]
    }
   ],
   "source": [
    "def get_user_top_movies(dataframe, n = 10):\n",
    "    return dataframe.groupby('user_id').apply(lambda x: x.sort_values('rating', ascending=False).head(n)['movie_title'].to_list())\n",
    "\n",
    "user_top_movies = get_user_top_movies(train)"
   ]
  },
  {
   "cell_type": "markdown",
   "metadata": {},
   "source": [
    "The genres of each movie."
   ]
  },
  {
   "cell_type": "code",
   "execution_count": 31,
   "metadata": {},
   "outputs": [
    {
     "name": "stderr",
     "output_type": "stream",
     "text": [
      "C:\\Users\\Admin\\AppData\\Local\\Temp\\ipykernel_2452\\585781067.py:1: DeprecationWarning: DataFrameGroupBy.apply operated on the grouping columns. This behavior is deprecated, and in a future version of pandas the grouping columns will be excluded from the operation. Either pass `include_groups=False` to exclude the groupings or explicitly select the grouping columns after groupby to silence this warning.\n",
      "  movie_genres = train.groupby('movie_title').apply(lambda x: x['genres'].unique().tolist()).apply(lambda x: x[0].split(\", \"))\n"
     ]
    }
   ],
   "source": [
    "movie_genres = train.groupby('movie_title').apply(lambda x: x['genres'].unique().tolist()).apply(lambda x: x[0].split(\", \"))"
   ]
  },
  {
   "cell_type": "code",
   "execution_count": 32,
   "metadata": {},
   "outputs": [
    {
     "data": {
      "text/plain": [
       "user_id\n",
       "1     [Empire Strikes Back, The (1980), Usual Suspec...\n",
       "5     [Wrong Trousers, The (1993), This Is Spinal Ta...\n",
       "6     [Down by Law (1986), Graduate, The (1967), Lon...\n",
       "8     [Contact (1997), Die Hard (1988), Braveheart (...\n",
       "10    [Amadeus (1984), Taxi Driver (1976), All About...\n",
       "dtype: object"
      ]
     },
     "execution_count": 32,
     "metadata": {},
     "output_type": "execute_result"
    }
   ],
   "source": [
    "user_top_movies.head()"
   ]
  },
  {
   "cell_type": "markdown",
   "metadata": {},
   "source": [
    "The genres for each users top rated movies"
   ]
  },
  {
   "cell_type": "code",
   "execution_count": 33,
   "metadata": {},
   "outputs": [],
   "source": [
    "user_top_movie_genres = user_top_movies.apply(lambda x: pd.Series(movie_genres.loc[x].sum()).unique().tolist())"
   ]
  },
  {
   "cell_type": "markdown",
   "metadata": {},
   "source": [
    "The ratings provided by each user to every movie they watched in the training data."
   ]
  },
  {
   "cell_type": "code",
   "execution_count": 34,
   "metadata": {},
   "outputs": [],
   "source": [
    "user_ratings = train.drop_duplicates(['user_id', 'movie_title']).pivot(index='user_id', columns='movie_title', values='avg_rating').fillna(0)"
   ]
  },
  {
   "cell_type": "code",
   "execution_count": 35,
   "metadata": {},
   "outputs": [],
   "source": [
    "from scipy.sparse import csr_matrix\n",
    "sparse_user_ratings = csr_matrix(user_ratings)"
   ]
  },
  {
   "cell_type": "code",
   "execution_count": 36,
   "metadata": {},
   "outputs": [],
   "source": [
    "from sklearn.metrics.pairwise import cosine_similarity\n",
    "import numpy as np"
   ]
  },
  {
   "cell_type": "markdown",
   "metadata": {},
   "source": [
    "Identifying similar users based on cosine similarity"
   ]
  },
  {
   "cell_type": "code",
   "execution_count": 37,
   "metadata": {},
   "outputs": [],
   "source": [
    "def get_similar_users(sparse_user_ratings, index, n = 10):\n",
    "    return pd.DataFrame(cosine_similarity(sparse_user_ratings) - np.identity(sparse_user_ratings.shape[0]), index = index, columns = index).apply(lambda x: list(x.sort_values(ascending = False).head(n).index), axis=1)\n",
    "\n",
    "similar_users = get_similar_users(sparse_user_ratings, user_ratings.index)"
   ]
  },
  {
   "cell_type": "code",
   "execution_count": 38,
   "metadata": {},
   "outputs": [
    {
     "data": {
      "text/plain": [
       "user_id\n",
       "1     [916, 457, 268, 435, 429, 823, 301, 276, 889, ...\n",
       "5      [648, 407, 307, 497, 268, 276, 22, 622, 804, 70]\n",
       "6       [18, 194, 716, 10, 666, 151, 321, 85, 389, 854]\n",
       "8      [746, 158, 37, 352, 638, 425, 22, 627, 671, 538]\n",
       "10      [6, 406, 666, 389, 321, 398, 524, 716, 194, 18]\n",
       "dtype: object"
      ]
     },
     "execution_count": 38,
     "metadata": {},
     "output_type": "execute_result"
    }
   ],
   "source": [
    "similar_users.head()"
   ]
  },
  {
   "cell_type": "markdown",
   "metadata": {},
   "source": [
    "Identifying Candidate movies which are the movies each user's similar users rated most highly overall."
   ]
  },
  {
   "cell_type": "code",
   "execution_count": 39,
   "metadata": {},
   "outputs": [],
   "source": [
    "def get_candidate_movies(similar_users, dataframe, n = 20):\n",
    "    return similar_users.apply(lambda x: list(dataframe.loc[dataframe['user_id'].isin(x)].groupby('movie_title').sum().sort_values('rating', ascending = False).index[:n]))\n",
    "\n",
    "candidate_movies = get_candidate_movies(similar_users, train)"
   ]
  },
  {
   "cell_type": "code",
   "execution_count": 40,
   "metadata": {},
   "outputs": [
    {
     "data": {
      "text/html": [
       "<div>\n",
       "<style scoped>\n",
       "    .dataframe tbody tr th:only-of-type {\n",
       "        vertical-align: middle;\n",
       "    }\n",
       "\n",
       "    .dataframe tbody tr th {\n",
       "        vertical-align: top;\n",
       "    }\n",
       "\n",
       "    .dataframe thead th {\n",
       "        text-align: right;\n",
       "    }\n",
       "</style>\n",
       "<table border=\"1\" class=\"dataframe\">\n",
       "  <thead>\n",
       "    <tr style=\"text-align: right;\">\n",
       "      <th></th>\n",
       "      <th>user_movies</th>\n",
       "      <th>user_top_movies</th>\n",
       "      <th>user_recent_movies</th>\n",
       "      <th>similar_users</th>\n",
       "      <th>candidate_movies</th>\n",
       "      <th>user_top_movie_genres</th>\n",
       "    </tr>\n",
       "    <tr>\n",
       "      <th>user_id</th>\n",
       "      <th></th>\n",
       "      <th></th>\n",
       "      <th></th>\n",
       "      <th></th>\n",
       "      <th></th>\n",
       "      <th></th>\n",
       "    </tr>\n",
       "  </thead>\n",
       "  <tbody>\n",
       "    <tr>\n",
       "      <th>1</th>\n",
       "      <td>[Empire Strikes Back, The (1980), Monty Python...</td>\n",
       "      <td>[Empire Strikes Back, The (1980), Usual Suspec...</td>\n",
       "      <td>[Dolores Claiborne (1994), French Twist (Gazon...</td>\n",
       "      <td>[916, 457, 268, 435, 429, 823, 301, 276, 889, ...</td>\n",
       "      <td>[Chasing Amy (1997), Star Wars (1977), Empire ...</td>\n",
       "      <td>[Action, Adventure, Romance, Sci-Fi, War, Thri...</td>\n",
       "    </tr>\n",
       "    <tr>\n",
       "      <th>5</th>\n",
       "      <td>[unknown, Star Trek: First Contact (1996), Jac...</td>\n",
       "      <td>[Wrong Trousers, The (1993), This Is Spinal Ta...</td>\n",
       "      <td>[Radioland Murders (1994), Houseguest (1994), ...</td>\n",
       "      <td>[648, 407, 307, 497, 268, 276, 22, 622, 804, 70]</td>\n",
       "      <td>[Raiders of the Lost Ark (1981), Monty Python ...</td>\n",
       "      <td>[Animation, Musical, unknown, Action, Adventur...</td>\n",
       "    </tr>\n",
       "    <tr>\n",
       "      <th>6</th>\n",
       "      <td>[Kolya (1996), English Patient, The (1996), L....</td>\n",
       "      <td>[Down by Law (1986), Graduate, The (1967), Lon...</td>\n",
       "      <td>[Monty Python and the Holy Grail (1974), Bob R...</td>\n",
       "      <td>[18, 194, 716, 10, 666, 151, 321, 85, 389, 854]</td>\n",
       "      <td>[Casablanca (1942), Wizard of Oz, The (1939), ...</td>\n",
       "      <td>[unknown, Romance, Mystery, Adventure, Sci-Fi,...</td>\n",
       "    </tr>\n",
       "    <tr>\n",
       "      <th>8</th>\n",
       "      <td>[Contact (1997), Liar Liar (1997), In &amp; Out (1...</td>\n",
       "      <td>[Contact (1997), Die Hard (1988), Braveheart (...</td>\n",
       "      <td>[Star Trek: First Contact (1996), Jurassic Par...</td>\n",
       "      <td>[746, 158, 37, 352, 638, 425, 22, 627, 671, 538]</td>\n",
       "      <td>[Blade Runner (1982), Raiders of the Lost Ark ...</td>\n",
       "      <td>[Sci-Fi, Action, Thriller, War, Adventure, unk...</td>\n",
       "    </tr>\n",
       "    <tr>\n",
       "      <th>10</th>\n",
       "      <td>[Full Monty, The (1997), L.A. Confidential (19...</td>\n",
       "      <td>[Amadeus (1984), Taxi Driver (1976), All About...</td>\n",
       "      <td>[To Wong Foo, Thanks for Everything! Julie New...</td>\n",
       "      <td>[6, 406, 666, 389, 321, 398, 524, 716, 194, 18]</td>\n",
       "      <td>[Casablanca (1942), Wizard of Oz, The (1939), ...</td>\n",
       "      <td>[Mystery, Thriller, unknown, War, Adventure, W...</td>\n",
       "    </tr>\n",
       "    <tr>\n",
       "      <th>...</th>\n",
       "      <td>...</td>\n",
       "      <td>...</td>\n",
       "      <td>...</td>\n",
       "      <td>...</td>\n",
       "      <td>...</td>\n",
       "      <td>...</td>\n",
       "    </tr>\n",
       "    <tr>\n",
       "      <th>937</th>\n",
       "      <td>[Contact (1997), Ulee's Gold (1997), English P...</td>\n",
       "      <td>[Boot, Das (1981), Star Wars (1977), Dead Man ...</td>\n",
       "      <td>[Ridicule (1996), Big Night (1996), Liar Liar ...</td>\n",
       "      <td>[413, 735, 136, 558, 390, 590, 63, 199, 864, 460]</td>\n",
       "      <td>[Fargo (1996), English Patient, The (1996), De...</td>\n",
       "      <td>[Action, War, Adventure, Romance, Sci-Fi, unkn...</td>\n",
       "    </tr>\n",
       "    <tr>\n",
       "      <th>939</th>\n",
       "      <td>[Jackal, The (1997), Kull the Conqueror (1997)...</td>\n",
       "      <td>[Jackal, The (1997), My Best Friend's Wedding ...</td>\n",
       "      <td>[Set It Off (1996), First Wives Club, The (199...</td>\n",
       "      <td>[718, 935, 238, 357, 181, 141, 759, 891, 15, 159]</td>\n",
       "      <td>[Independence Day (ID4) (1996), Mission: Impos...</td>\n",
       "      <td>[Action, Thriller, Romance, unknown, Adventure...</td>\n",
       "    </tr>\n",
       "    <tr>\n",
       "      <th>940</th>\n",
       "      <td>[English Patient, The (1996), Everyone Says I ...</td>\n",
       "      <td>[Titanic (1997), Air Force One (1997), Contact...</td>\n",
       "      <td>[Titanic (1997), L.A. Confidential (1997), Mot...</td>\n",
       "      <td>[404, 827, 724, 860, 149, 284, 112, 589, 740, ...</td>\n",
       "      <td>[Air Force One (1997), English Patient, The (1...</td>\n",
       "      <td>[Action, Romance, Thriller, Sci-Fi, unknown, C...</td>\n",
       "    </tr>\n",
       "    <tr>\n",
       "      <th>941</th>\n",
       "      <td>[Contact (1997), Air Force One (1997), Liar Li...</td>\n",
       "      <td>[Toy Story (1995), Lone Star (1996), Close Sha...</td>\n",
       "      <td>[Hercules (1997), Lone Star (1996), Heat (1995...</td>\n",
       "      <td>[689, 817, 730, 66, 582, 742, 703, 467, 490, 759]</td>\n",
       "      <td>[Star Wars (1977), Toy Story (1995), Contact (...</td>\n",
       "      <td>[Animation, Children, Mystery, Thriller, Actio...</td>\n",
       "    </tr>\n",
       "    <tr>\n",
       "      <th>943</th>\n",
       "      <td>[Shawshank Redemption, The (1994), Return of t...</td>\n",
       "      <td>[Shawshank Redemption, The (1994), Courage Und...</td>\n",
       "      <td>[Broken Arrow (1996), Time to Kill, A (1996), ...</td>\n",
       "      <td>[66, 403, 742, 708, 634, 101, 935, 386, 57, 501]</td>\n",
       "      <td>[Rock, The (1996), Return of the Jedi (1983), ...</td>\n",
       "      <td>[unknown, War, Thriller, Action, Horror]</td>\n",
       "    </tr>\n",
       "  </tbody>\n",
       "</table>\n",
       "<p>621 rows × 6 columns</p>\n",
       "</div>"
      ],
      "text/plain": [
       "                                               user_movies  \\\n",
       "user_id                                                      \n",
       "1        [Empire Strikes Back, The (1980), Monty Python...   \n",
       "5        [unknown, Star Trek: First Contact (1996), Jac...   \n",
       "6        [Kolya (1996), English Patient, The (1996), L....   \n",
       "8        [Contact (1997), Liar Liar (1997), In & Out (1...   \n",
       "10       [Full Monty, The (1997), L.A. Confidential (19...   \n",
       "...                                                    ...   \n",
       "937      [Contact (1997), Ulee's Gold (1997), English P...   \n",
       "939      [Jackal, The (1997), Kull the Conqueror (1997)...   \n",
       "940      [English Patient, The (1996), Everyone Says I ...   \n",
       "941      [Contact (1997), Air Force One (1997), Liar Li...   \n",
       "943      [Shawshank Redemption, The (1994), Return of t...   \n",
       "\n",
       "                                           user_top_movies  \\\n",
       "user_id                                                      \n",
       "1        [Empire Strikes Back, The (1980), Usual Suspec...   \n",
       "5        [Wrong Trousers, The (1993), This Is Spinal Ta...   \n",
       "6        [Down by Law (1986), Graduate, The (1967), Lon...   \n",
       "8        [Contact (1997), Die Hard (1988), Braveheart (...   \n",
       "10       [Amadeus (1984), Taxi Driver (1976), All About...   \n",
       "...                                                    ...   \n",
       "937      [Boot, Das (1981), Star Wars (1977), Dead Man ...   \n",
       "939      [Jackal, The (1997), My Best Friend's Wedding ...   \n",
       "940      [Titanic (1997), Air Force One (1997), Contact...   \n",
       "941      [Toy Story (1995), Lone Star (1996), Close Sha...   \n",
       "943      [Shawshank Redemption, The (1994), Courage Und...   \n",
       "\n",
       "                                        user_recent_movies  \\\n",
       "user_id                                                      \n",
       "1        [Dolores Claiborne (1994), French Twist (Gazon...   \n",
       "5        [Radioland Murders (1994), Houseguest (1994), ...   \n",
       "6        [Monty Python and the Holy Grail (1974), Bob R...   \n",
       "8        [Star Trek: First Contact (1996), Jurassic Par...   \n",
       "10       [To Wong Foo, Thanks for Everything! Julie New...   \n",
       "...                                                    ...   \n",
       "937      [Ridicule (1996), Big Night (1996), Liar Liar ...   \n",
       "939      [Set It Off (1996), First Wives Club, The (199...   \n",
       "940      [Titanic (1997), L.A. Confidential (1997), Mot...   \n",
       "941      [Hercules (1997), Lone Star (1996), Heat (1995...   \n",
       "943      [Broken Arrow (1996), Time to Kill, A (1996), ...   \n",
       "\n",
       "                                             similar_users  \\\n",
       "user_id                                                      \n",
       "1        [916, 457, 268, 435, 429, 823, 301, 276, 889, ...   \n",
       "5         [648, 407, 307, 497, 268, 276, 22, 622, 804, 70]   \n",
       "6          [18, 194, 716, 10, 666, 151, 321, 85, 389, 854]   \n",
       "8         [746, 158, 37, 352, 638, 425, 22, 627, 671, 538]   \n",
       "10         [6, 406, 666, 389, 321, 398, 524, 716, 194, 18]   \n",
       "...                                                    ...   \n",
       "937      [413, 735, 136, 558, 390, 590, 63, 199, 864, 460]   \n",
       "939      [718, 935, 238, 357, 181, 141, 759, 891, 15, 159]   \n",
       "940      [404, 827, 724, 860, 149, 284, 112, 589, 740, ...   \n",
       "941      [689, 817, 730, 66, 582, 742, 703, 467, 490, 759]   \n",
       "943       [66, 403, 742, 708, 634, 101, 935, 386, 57, 501]   \n",
       "\n",
       "                                          candidate_movies  \\\n",
       "user_id                                                      \n",
       "1        [Chasing Amy (1997), Star Wars (1977), Empire ...   \n",
       "5        [Raiders of the Lost Ark (1981), Monty Python ...   \n",
       "6        [Casablanca (1942), Wizard of Oz, The (1939), ...   \n",
       "8        [Blade Runner (1982), Raiders of the Lost Ark ...   \n",
       "10       [Casablanca (1942), Wizard of Oz, The (1939), ...   \n",
       "...                                                    ...   \n",
       "937      [Fargo (1996), English Patient, The (1996), De...   \n",
       "939      [Independence Day (ID4) (1996), Mission: Impos...   \n",
       "940      [Air Force One (1997), English Patient, The (1...   \n",
       "941      [Star Wars (1977), Toy Story (1995), Contact (...   \n",
       "943      [Rock, The (1996), Return of the Jedi (1983), ...   \n",
       "\n",
       "                                     user_top_movie_genres  \n",
       "user_id                                                     \n",
       "1        [Action, Adventure, Romance, Sci-Fi, War, Thri...  \n",
       "5        [Animation, Musical, unknown, Action, Adventur...  \n",
       "6        [unknown, Romance, Mystery, Adventure, Sci-Fi,...  \n",
       "8        [Sci-Fi, Action, Thriller, War, Adventure, unk...  \n",
       "10       [Mystery, Thriller, unknown, War, Adventure, W...  \n",
       "...                                                    ...  \n",
       "937      [Action, War, Adventure, Romance, Sci-Fi, unkn...  \n",
       "939      [Action, Thriller, Romance, unknown, Adventure...  \n",
       "940      [Action, Romance, Thriller, Sci-Fi, unknown, C...  \n",
       "941      [Animation, Children, Mystery, Thriller, Actio...  \n",
       "943               [unknown, War, Thriller, Action, Horror]  \n",
       "\n",
       "[621 rows x 6 columns]"
      ]
     },
     "execution_count": 40,
     "metadata": {},
     "output_type": "execute_result"
    }
   ],
   "source": [
    "user_prompt_data = pd.concat((user_movies, user_top_movies, user_recent_movies, similar_users, candidate_movies, user_top_movie_genres), axis = 1, keys = ['user_movies', 'user_top_movies', 'user_recent_movies', 'similar_users', 'candidate_movies', 'user_top_movie_genres'])\n",
    "user_prompt_data\n"
   ]
  },
  {
   "cell_type": "markdown",
   "metadata": {},
   "source": [
    "Collaborative Filtering Prompt"
   ]
  },
  {
   "cell_type": "code",
   "execution_count": 41,
   "metadata": {},
   "outputs": [],
   "source": [
    "new_line = '\\n'\n",
    "\n",
    "def collabPrompt(each, user_prompt_data, new_line = '\\n'):\n",
    "    return f\"\"\"I am user {each}.\n",
    "The most recent ten movies I have seen are:\n",
    "{\", \".join(user_prompt_data.loc[each, 'user_recent_movies'])}.\n",
    "My top rated movies are:\n",
    "{\", \".join(user_prompt_data.loc[each, 'user_top_movies'])}.\n",
    "The users who are most like me are {\", \".join([str(each) for each in user_prompt_data.loc[each, 'similar_users']])}.\n",
    "The top movies for each of these users are:\n",
    "{new_line.join([f\"{each}: {', '.join(user_prompt_data.loc[each, 'user_top_movies'])}\" for each in user_prompt_data.loc[each, 'similar_users']])}.\n",
    "Please recommend ten movies for me to watch that I have not seen. Provide brackets around your recommendations so I can easily parse them.\n",
    "For example ([Midnight Cowboy (1969){new_line}Lost in Translation (2003){new_line}etc.])\"\"\"\n",
    "    "
   ]
  },
  {
   "cell_type": "code",
   "execution_count": 42,
   "metadata": {},
   "outputs": [],
   "source": [
    "collab_prompts = pd.Series(user_prompt_data.index, index = user_prompt_data.index).apply(lambda x: collabPrompt(x, user_prompt_data))"
   ]
  },
  {
   "cell_type": "code",
   "execution_count": 43,
   "metadata": {},
   "outputs": [],
   "source": [
    "from dotenv import load_dotenv\n",
    "from groq import Client\n",
    "import os\n",
    "dotenv_path = 'D:\\\\test\\\\LLM-Recommender-System-with-RAG\\\\key_api.env'  # Thay thế bằng đường dẫn thực tế\n",
    "load_dotenv(dotenv_path)\n",
    "api_key = os.getenv('GROQ_API_KEY')\n",
    "client = Client(api_key=api_key)"
   ]
  },
  {
   "cell_type": "code",
   "execution_count": 44,
   "metadata": {},
   "outputs": [],
   "source": [
    "collab_response = collab_prompts.iloc[:num_users].apply(lambda x: client.chat.completions.create(\n",
    "    model=\"llama3-8b-8192\",\n",
    "        messages= [{ 'role':'user','content' : x}],\n",
    "        # temperature=0,\n",
    "        # max_tokens=512,\n",
    "        # top_p=1,\n",
    "        # frequency_penalty=0,\n",
    "        # presence_penalty=0,\n",
    "        ))"
   ]
  },
  {
   "cell_type": "code",
   "execution_count": 45,
   "metadata": {},
   "outputs": [],
   "source": [
    "collab_recommendations = collab_response.apply(lambda x: x.choices[0].message.content.split(\"[\")[1].split(\"]\")[0].split(\"\\n\"))"
   ]
  },
  {
   "cell_type": "code",
   "execution_count": 46,
   "metadata": {},
   "outputs": [
    {
     "data": {
      "text/plain": [
       "user_id\n",
       "1     [The Big Chill (1983), Rope (1948), The Man Wh...\n",
       "5                             [The Big Lebowski (1998)]\n",
       "6                                                [List]\n",
       "8     [The Shawshank Redemption (1994), The Princess...\n",
       "10    [The Seventh Seal (1957), 8 1/2 (1963), The Di...\n",
       "Name: user_id, dtype: object"
      ]
     },
     "execution_count": 46,
     "metadata": {},
     "output_type": "execute_result"
    }
   ],
   "source": [
    "collab_recommendations.head()"
   ]
  },
  {
   "cell_type": "code",
   "execution_count": 47,
   "metadata": {},
   "outputs": [],
   "source": [
    "test = pd.read_csv('../data/test.csv')"
   ]
  },
  {
   "cell_type": "code",
   "execution_count": 48,
   "metadata": {},
   "outputs": [
    {
     "name": "stderr",
     "output_type": "stream",
     "text": [
      "C:\\Users\\Admin\\AppData\\Local\\Temp\\ipykernel_2452\\134710919.py:1: DeprecationWarning: DataFrameGroupBy.apply operated on the grouping columns. This behavior is deprecated, and in a future version of pandas the grouping columns will be excluded from the operation. Either pass `include_groups=False` to exclude the groupings or explicitly select the grouping columns after groupby to silence this warning.\n",
      "  user_movies_test = test.groupby('user_id').apply(lambda x: x['movie_title'].tolist())\n"
     ]
    }
   ],
   "source": [
    "user_movies_test = test.groupby('user_id').apply(lambda x: x['movie_title'].tolist())"
   ]
  },
  {
   "cell_type": "code",
   "execution_count": 49,
   "metadata": {},
   "outputs": [],
   "source": [
    "collab_hits = pd.concat((user_movies, user_movies_test, collab_recommendations), axis=1, keys = ['user_movies', 'user_movies_test', 'collab_recommendations']).dropna(subset = 'collab_recommendations').apply(lambda x: len(set(x.iloc[0]).union(x.iloc[1]).intersection(x.iloc[2])) if x.iloc[1] is not np.nan else len(set(x.iloc[0]).intersection(x.iloc[2])), axis = 1)"
   ]
  },
  {
   "cell_type": "markdown",
   "metadata": {},
   "source": [
    "Prompt Similar to Zero-Shot Paper (reduced to one prompt, added genres)"
   ]
  },
  {
   "cell_type": "code",
   "execution_count": 50,
   "metadata": {},
   "outputs": [],
   "source": [
    "def genrePrompts(each, user_prompt_data, new_line = '\\n'):\n",
    "    return f\"\"\"\n",
    "Candidate Set (candidate movies): {user_prompt_data.loc[each, 'candidate_movies']}.\n",
    "The movies I have rated highly (watched movies): {user_prompt_data.loc[each, 'user_top_movies']}.\n",
    "Their genres are: {user_prompt_data.loc[each, 'user_top_movie_genres']}.\n",
    "Can you recommend 10 movies from the Candidate Set similar to but not in the selected movies I've watched?.\n",
    "Please use brackets around the movies you recommend and separate the titles by new lines so I can easily parse them.\n",
    "(Format Example: Here are the 10 movies recommended for you: [Midnight Cowboy (1969){new_line}Lost in Translation (2003){new_line}etc.])\n",
    "Answer: \n",
    "\"\"\""
   ]
  },
  {
   "cell_type": "code",
   "execution_count": 51,
   "metadata": {},
   "outputs": [],
   "source": [
    "genre_prompts = pd.Series(user_prompt_data.index, index = user_prompt_data.index).apply(lambda x: genrePrompts(x, user_prompt_data))"
   ]
  },
  {
   "cell_type": "code",
   "execution_count": 52,
   "metadata": {},
   "outputs": [
    {
     "data": {
      "text/plain": [
       "user_id\n",
       "1     \\nCandidate Set (candidate movies): ['Chasing ...\n",
       "5     \\nCandidate Set (candidate movies): ['Raiders ...\n",
       "6     \\nCandidate Set (candidate movies): ['Casablan...\n",
       "8     \\nCandidate Set (candidate movies): ['Blade Ru...\n",
       "10    \\nCandidate Set (candidate movies): ['Casablan...\n",
       "Name: user_id, dtype: object"
      ]
     },
     "execution_count": 52,
     "metadata": {},
     "output_type": "execute_result"
    }
   ],
   "source": [
    "genre_prompts.head()"
   ]
  },
  {
   "cell_type": "code",
   "execution_count": 53,
   "metadata": {},
   "outputs": [],
   "source": [
    "genre_response = genre_prompts.iloc[:num_users].apply(lambda x: client.chat.completions.create(\n",
    "    model=\"llama3-8b-8192\",\n",
    "        messages= [{ 'role':'user','content' : x}],\n",
    "        # temperature=0,\n",
    "        # max_tokens=512,\n",
    "        # top_p=1,\n",
    "        # frequency_penalty=0,\n",
    "        # presence_penalty=0,\n",
    "        ))"
   ]
  },
  {
   "cell_type": "code",
   "execution_count": 54,
   "metadata": {},
   "outputs": [],
   "source": [
    "genre_recommendations = genre_response.apply(lambda x: x.choices[0].message.content.split(\"[\")[-1].split(\"]\")[0].split(\"\\n\"))"
   ]
  },
  {
   "cell_type": "code",
   "execution_count": 55,
   "metadata": {},
   "outputs": [
    {
     "data": {
      "text/plain": [
       "user_id\n",
       "1     [Silence of the Lambs, The (1991), Raiders of ...\n",
       "5     [Monty Python and the Holy Grail (1974), Termi...\n",
       "6     [Monty Python and the Holy Grail (1974), Pulp ...\n",
       "8     [Blade Runner (1982), Terminator, The (1984), ...\n",
       "10    [Casablanca (1942), The African Queen, The (19...\n",
       "Name: user_id, dtype: object"
      ]
     },
     "execution_count": 55,
     "metadata": {},
     "output_type": "execute_result"
    }
   ],
   "source": [
    "genre_recommendations.head()"
   ]
  },
  {
   "cell_type": "code",
   "execution_count": 56,
   "metadata": {},
   "outputs": [],
   "source": [
    "genre_hits = pd.concat((user_movies, user_movies_test, genre_recommendations), axis=1, keys = ['user_movies', 'user_movies_test', 'genre_recommendations']).dropna(subset = 'genre_recommendations').apply(lambda x: len(set(x.iloc[0]).union(x.iloc[1]).intersection(x.iloc[2])) if x.iloc[1] is not np.nan else len(set(x.iloc[0]).intersection(x.iloc[2])), axis = 1)"
   ]
  },
  {
   "cell_type": "markdown",
   "metadata": {},
   "source": [
    "Prompt Similar to Zero-Shot Paper (uses two prompts, adds genres)"
   ]
  },
  {
   "cell_type": "code",
   "execution_count": 57,
   "metadata": {},
   "outputs": [],
   "source": [
    "def twoStepPrompt1(each, user_prompt_data):\n",
    "    return f\"\"\"\n",
    "Candidate Set (candidate movies): {user_prompt_data.loc[each, 'candidate_movies']}.\n",
    "The movies I have rated highly (watched movies): {user_prompt_data.loc[each, 'user_top_movies']}.\n",
    "Their genres are: {user_prompt_data.loc[each, 'user_top_movie_genres']}.\n",
    "Step 1: What features are most important to me when selecting movies (Summarize my preferences briefly)? \n",
    "Answer: \n",
    "\"\"\"\n",
    "\n",
    "def twoStepPrompt2(each, user_prompt_data, response1):\n",
    "    return f\"\"\"\n",
    "Candidate Set (candidate movies): {user_prompt_data.loc[each, 'candidate_movies']}.\n",
    "The movies I have rated highly (watched movies): {user_prompt_data.loc[each, 'user_top_movies']}.\n",
    "Their genres are: {user_prompt_data.loc[each, 'user_top_movie_genres']}.\n",
    "Step 1: What features are most important to me when selecting movies (Summarize my preferences briefly)? \n",
    "Answer: {response1.loc[each]}.\n",
    "Step 2: Can you recommend 10 movies from the Candidate Set similar to but not in the selected movies I've watched?\n",
    "Please use brackets around the movies you recommend and separate the titles by new lines so I can easily parse them.\n",
    "(Format Example: Here are the 10 movies recommended for you: [Midnight Cowboy (1969){new_line}Lost in Translation (2003){new_line}etc.])\n",
    "Answer: \n",
    "\"\"\""
   ]
  },
  {
   "cell_type": "code",
   "execution_count": 58,
   "metadata": {},
   "outputs": [],
   "source": [
    "prompt1 = pd.Series(user_prompt_data.index, index = user_prompt_data.index).apply(lambda x: twoStepPrompt1(x, user_prompt_data))"
   ]
  },
  {
   "cell_type": "code",
   "execution_count": 63,
   "metadata": {},
   "outputs": [
    {
     "data": {
      "text/plain": [
       "user_id\n",
       "1     ChatCompletion(id='chatcmpl-d822f30e-b58b-4377...\n",
       "5     ChatCompletion(id='chatcmpl-97fa6bff-10ab-4a40...\n",
       "6     ChatCompletion(id='chatcmpl-afc7414f-3b7e-473d...\n",
       "8     ChatCompletion(id='chatcmpl-a4dae5c5-71ef-47fd...\n",
       "10    ChatCompletion(id='chatcmpl-c1648c89-b1db-4c6c...\n",
       "Name: user_id, dtype: object"
      ]
     },
     "execution_count": 63,
     "metadata": {},
     "output_type": "execute_result"
    }
   ],
   "source": [
    "response1 = prompt1.iloc[:num_users].apply(lambda x: client.chat.completions.create(\n",
    "    model=\"llama3-8b-8192\",\n",
    "    messages=[{'role': 'user', 'content': x}],\n",
    "    max_tokens=512,\n",
    "    temperature=0.7\n",
    ").choices[0].message.content.strip())\n",
    "\n",
    "# Kiểm tra kết quả\n",
    "response1.head()\n"
   ]
  },
  {
   "cell_type": "code",
   "execution_count": 60,
   "metadata": {},
   "outputs": [
    {
     "data": {
      "text/plain": [
       "user_id\n",
       "1     ChatCompletion(id='chatcmpl-bd5f6d4e-661c-4a5d...\n",
       "5     ChatCompletion(id='chatcmpl-f415bfc9-073c-4ffa...\n",
       "6     ChatCompletion(id='chatcmpl-5a4c9c7c-6f8b-4956...\n",
       "8     ChatCompletion(id='chatcmpl-2313711a-935c-47bf...\n",
       "10    ChatCompletion(id='chatcmpl-5022c932-3abe-42de...\n",
       "Name: user_id, dtype: object"
      ]
     },
     "execution_count": 60,
     "metadata": {},
     "output_type": "execute_result"
    }
   ],
   "source": [
    "response1.head()"
   ]
  },
  {
   "cell_type": "code",
   "execution_count": 61,
   "metadata": {},
   "outputs": [],
   "source": [
    "prompt2 = pd.Series(user_prompt_data.index, index = user_prompt_data.index).iloc[:num_users].apply(lambda x: twoStepPrompt2(x, user_prompt_data, response1))"
   ]
  },
  {
   "cell_type": "code",
   "execution_count": 64,
   "metadata": {},
   "outputs": [],
   "source": [
    "response2 = prompt2.apply(lambda x: client.chat.completions.create(\n",
    "    model=\"llama3-8b-8192\",\n",
    "        messages= [{ 'role':'user','content' : x}],\n",
    "        # temperature=0,\n",
    "        # max_tokens=512,\n",
    "        # top_p=1,\n",
    "        # frequency_penalty=0,\n",
    "        # presence_penalty=0,\n",
    "        ))"
   ]
  },
  {
   "cell_type": "code",
   "execution_count": null,
   "metadata": {},
   "outputs": [],
   "source": [
    "twoStep_recommendations = response2.apply(lambda x: x.choices[0].message.content.split(\"[\")[-1].split(\"]\")[0].split(\"\\n\"))"
   ]
  },
  {
   "cell_type": "code",
   "execution_count": null,
   "metadata": {},
   "outputs": [],
   "source": [
    "twoStep_recommendations.head()"
   ]
  },
  {
   "cell_type": "code",
   "execution_count": null,
   "metadata": {},
   "outputs": [],
   "source": [
    "twoStep_hits = pd.concat((user_movies, user_movies_test, twoStep_recommendations), axis=1, keys = ['user_movies', 'user_movies_test', 'twoStep_recommendations']).dropna(subset = 'twoStep_recommendations').apply(lambda x: len(set(x.iloc[0]).union(x.iloc[1]).intersection(x.iloc[2])) if x.iloc[1] is not np.nan else len(set(x.iloc[0]).intersection(x.iloc[2])), axis = 1)"
   ]
  },
  {
   "cell_type": "code",
   "execution_count": null,
   "metadata": {},
   "outputs": [],
   "source": [
    "twoStep_hits.head()"
   ]
  },
  {
   "cell_type": "markdown",
   "metadata": {},
   "source": [
    "Prompt using wikipedia movie summaries"
   ]
  },
  {
   "cell_type": "code",
   "execution_count": null,
   "metadata": {},
   "outputs": [],
   "source": [
    "movie_wiki = pd.read_csv('../data/movie_wiki.csv')\n",
    "movie_wiki.head()"
   ]
  },
  {
   "cell_type": "code",
   "execution_count": null,
   "metadata": {},
   "outputs": [],
   "source": [
    "def wikiPrompt(each, user_prompt_data, movie_wiki, new_line = '\\n'):\n",
    "    return f\"\"\"\n",
    "Candidate Set (candidate movies): {user_prompt_data.loc[each, 'candidate_movies']}.\n",
    "The movies I have rated highly (watched movies): {user_prompt_data.loc[each, 'user_top_movies']}.\n",
    "Summary of the movies I have watched: {new_line.join([f\"{eachMovie}: {movie_wiki.loc[movie_wiki['movie_title'] == eachMovie, 'wiki_summary'].iloc[0]}\" for eachMovie in user_prompt_data.loc[1, 'user_top_movies']])}\n",
    "Can you recommend 10 movies from the Candidate Set similar to but not in the selected movies I've watched?.\n",
    "Please use brackets around the movies you recommend and separate the titles by new lines so I can easily parse them.\n",
    "(Format Example: Here are the 10 movies recommended for you: [Midnight Cowboy (1969){new_line}Lost in Translation (2003){new_line}etc.])\n",
    "Answer: \n",
    "\"\"\""
   ]
  },
  {
   "cell_type": "code",
   "execution_count": null,
   "metadata": {},
   "outputs": [],
   "source": [
    "wiki_prompts = pd.Series(user_prompt_data.index, index = user_prompt_data.index).apply(lambda x: wikiPrompt(x, user_prompt_data, movie_wiki))"
   ]
  },
  {
   "cell_type": "code",
   "execution_count": null,
   "metadata": {},
   "outputs": [],
   "source": [
    "wiki_prompts.head()"
   ]
  },
  {
   "cell_type": "code",
   "execution_count": null,
   "metadata": {},
   "outputs": [],
   "source": [
    "wiki_response = wiki_prompts.iloc[:num_users].apply(lambda x: client.chat.completions.create(\n",
    "    model=\"llama3-8b-8192\",\n",
    "        messages= [{ 'role':'user','content' : x}],\n",
    "        # temperature=0,\n",
    "        # max_tokens=512,\n",
    "        # top_p=1,\n",
    "        # frequency_penalty=0,\n",
    "        # presence_penalty=0,\n",
    "        ))"
   ]
  },
  {
   "cell_type": "code",
   "execution_count": null,
   "metadata": {},
   "outputs": [],
   "source": [
    "wiki_recommendations = wiki_response.apply(lambda x: x.choices[0].message.content.split(\"[\")[-1].split(\"]\")[0].split(\"\\n\"))"
   ]
  },
  {
   "cell_type": "code",
   "execution_count": null,
   "metadata": {},
   "outputs": [],
   "source": [
    "wiki_recommendations.head()"
   ]
  },
  {
   "cell_type": "code",
   "execution_count": null,
   "metadata": {},
   "outputs": [],
   "source": [
    "wiki_hits = pd.concat((user_movies, user_movies_test, wiki_recommendations), axis=1, keys = ['user_movies', 'user_movies_test', 'wiki_recommendations']).dropna(subset = 'wiki_recommendations').apply(lambda x: len(set(x.iloc[0]).union(x.iloc[1]).intersection(x.iloc[2])) if x.iloc[1] is not np.nan else len(set(x.iloc[0]).intersection(x.iloc[2])), axis = 1)"
   ]
  },
  {
   "cell_type": "markdown",
   "metadata": {},
   "source": [
    "Baseline Recommender: Recommend top 10 most popular movies to every user"
   ]
  },
  {
   "cell_type": "code",
   "execution_count": null,
   "metadata": {},
   "outputs": [],
   "source": [
    "viewings = train.groupby('movie_title').count().sort_values('user_id', ascending=False)"
   ]
  },
  {
   "cell_type": "code",
   "execution_count": null,
   "metadata": {},
   "outputs": [],
   "source": [
    "viewings.head()"
   ]
  },
  {
   "cell_type": "code",
   "execution_count": null,
   "metadata": {},
   "outputs": [],
   "source": [
    "top_10_movies = viewings.head(10).index.tolist()\n",
    "top_10_movies"
   ]
  },
  {
   "cell_type": "code",
   "execution_count": null,
   "metadata": {},
   "outputs": [],
   "source": [
    "baseline_hits = pd.concat((user_movies, user_movies_test), axis=1).dropna().iloc[:num_users].apply(lambda x: len(set(x.iloc[0]).union(x.iloc[1]).intersection(top_10_movies)), axis = 1)"
   ]
  },
  {
   "cell_type": "markdown",
   "metadata": {},
   "source": [
    "Comparison of Prompts"
   ]
  },
  {
   "cell_type": "code",
   "execution_count": null,
   "metadata": {},
   "outputs": [],
   "source": [
    "comparison = pd.concat((collab_hits, genre_hits, twoStep_hits, wiki_hits, baseline_hits), axis = 1, keys = ['collab_hits', 'genre_hits', 'twoStep_hits', 'wiki_hits', 'baseline_hits'])"
   ]
  },
  {
   "cell_type": "markdown",
   "metadata": {},
   "source": [
    "Below values are Hit Rate in % (i.e. 100 is 100%)"
   ]
  },
  {
   "cell_type": "code",
   "execution_count": null,
   "metadata": {},
   "outputs": [],
   "source": [
    "comparison.describe().iloc[1:] / 10 * 100"
   ]
  }
 ],
 "metadata": {
  "kernelspec": {
   "display_name": ".openai_env",
   "language": "python",
   "name": "python3"
  },
  "language_info": {
   "codemirror_mode": {
    "name": "ipython",
    "version": 3
   },
   "file_extension": ".py",
   "mimetype": "text/x-python",
   "name": "python",
   "nbconvert_exporter": "python",
   "pygments_lexer": "ipython3",
   "version": "3.12.2"
  }
 },
 "nbformat": 4,
 "nbformat_minor": 2
}
