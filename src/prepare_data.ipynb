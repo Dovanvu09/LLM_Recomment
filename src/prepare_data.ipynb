{
 "cells": [
  {
   "cell_type": "code",
   "execution_count": null,
   "metadata": {},
   "outputs": [],
   "source": [
    "import pandas as pd\n",
    "import numpy as np\n",
    "import wikipedia"
   ]
  },
  {
   "cell_type": "code",
   "execution_count": null,
   "metadata": {},
   "outputs": [],
   "source": [
    "wikipedia.__version__"
   ]
  },
  {
   "cell_type": "code",
   "execution_count": null,
   "metadata": {},
   "outputs": [],
   "source": [
    "data_cols = ['user id','movie id','rating','timestamp']\n",
    "data = pd.read_csv('../data/ml-100k/u.data', sep='\\t', header=None, names=data_cols)\n",
    "data.head()"
   ]
  },
  {
   "cell_type": "code",
   "execution_count": null,
   "metadata": {},
   "outputs": [],
   "source": [
    "item_cols = ['movie id',  'movie title', 'release date', 'video release date','IMDb URL', 'unknown',\\\n",
    "'Action', 'Adventure', 'Animation', 'Children', 'Comedy', 'Crime', 'Documentary', 'Drama','Fantasy', \\\n",
    "'Film-Noir', 'Horror', 'Musical', 'Mystery', 'Romance','Sci-Fi', 'Thriller', 'War', 'Western']\n",
    "item = pd.read_csv('../data/ml-100k/u.item',  sep='|',header=None,names=item_cols,encoding='latin-1')\n",
    "item.head()"
   ]
  },
  {
   "cell_type": "code",
   "execution_count": null,
   "metadata": {},
   "outputs": [],
   "source": [
    "# Assuming 'df' is your DataFrame\n",
    "genre_columns = ['Action', 'Adventure', 'Animation', 'Children', 'Fantasy', 'Film-Noir', 'Horror', 'Musical', 'Mystery', 'Romance', 'Sci-Fi', 'Thriller', 'War', 'Western']\n",
    "\n",
    "# Function to get genres for a row\n",
    "def get_genres(row):\n",
    "    genres = [genre for genre in genre_columns if row[genre] == 1]\n",
    "    return ', '.join(genres) if genres else 'unknown'\n",
    "\n",
    "# Apply the function to each row\n",
    "item['Genres'] = item.apply(get_genres, axis=1)\n",
    "item.head()"
   ]
  },
  {
   "cell_type": "code",
   "execution_count": null,
   "metadata": {},
   "outputs": [],
   "source": [
    "item = item[['movie id', 'movie title', 'Genres']]\n",
    "item.head()"
   ]
  },
  {
   "cell_type": "code",
   "execution_count": null,
   "metadata": {},
   "outputs": [],
   "source": [
    "# merge data and item\n",
    "df = pd.merge(data, item, on='movie id').sort_values(by=['user id', 'movie id']).reset_index(drop=True)\n",
    "df.head()"
   ]
  },
  {
   "cell_type": "code",
   "execution_count": null,
   "metadata": {},
   "outputs": [],
   "source": [
    "# average rating for each movie for each user, add the column to df\n",
    "df['avg_rating'] = df.groupby(['user id', 'movie id'])['rating'].transform('mean')\n",
    "# rename the column\n",
    "df.columns = ['user_id', 'movie_id', 'rating', 'timestamp', 'movie_title', 'genres', 'avg_rating']\n",
    "df.head()"
   ]
  },
  {
   "cell_type": "code",
   "execution_count": null,
   "metadata": {},
   "outputs": [],
   "source": [
    "df.to_csv('../data/processed_movie100k.csv', index=False)"
   ]
  },
  {
   "cell_type": "markdown",
   "metadata": {},
   "source": [
    "### Add wiki summary"
   ]
  },
  {
   "cell_type": "code",
   "execution_count": null,
   "metadata": {},
   "outputs": [],
   "source": [
    "movie100k = pd.read_csv('D:/test/LLM-Recommender-System-with-RAG/data/processed_movie100k.csv')\n",
    "movie100k.head()\n",
    "print(movie100k.shape)"
   ]
  },
  {
   "cell_type": "code",
   "execution_count": null,
   "metadata": {},
   "outputs": [],
   "source": [
    "movie_data = []\n",
    "\n",
    "for title in np.unique(movie100k['movie_title']):\n",
    "    try:\n",
    "        # Formatting the title for Wikipedia\n",
    "        title_formatted = title.replace(\"'\", \"\").rstrip()\n",
    "        if \"(\" in title_formatted and \")\" in title_formatted:\n",
    "            title_formatted = title_formatted.replace(\")\", \" film)\")  # Add 'film' before the closing parenthesis\n",
    "        else:\n",
    "            title_formatted += \" (film)\"\n",
    "\n",
    "        # Fetching the summary\n",
    "        summary = wikipedia.summary(title_formatted, sentences=1)\n",
    "        movie_data.append({'movie_title': title, 'wiki_summary': summary})\n",
    "    except wikipedia.DisambiguationError as e:\n",
    "        # Handle disambiguation by looking for a title containing 'film'\n",
    "        relevant_page = next((option for option in e.options if \"film\" in option and title.split(\" (\")[0] in option), None)\n",
    "        if relevant_page:\n",
    "            try:\n",
    "                summary = wikipedia.summary(relevant_page, sentences=1)\n",
    "                movie_data.append({'movie_title': title, 'wiki_summary': summary})\n",
    "            except Exception as ex:\n",
    "                print(f\"Failed to fetch summary for {title}: {ex}\")\n",
    "        else:\n",
    "            print(f\"No relevant Wikipedia page found for {title}\")\n",
    "    except Exception as ex:\n",
    "        print(f\"Failed to fetch summary for {title}: {ex}\")\n",
    "\n",
    "# Creating the DataFrame after collecting all data\n",
    "movie_wiki = pd.DataFrame(movie_data)"
   ]
  },
  {
   "cell_type": "code",
   "execution_count": null,
   "metadata": {},
   "outputs": [],
   "source": [
    "movie_wiki.head()"
   ]
  },
  {
   "cell_type": "code",
   "execution_count": null,
   "metadata": {},
   "outputs": [],
   "source": [
    "movie_wiki.to_csv('D:/test/LLM-Recommender-System-with-RAG/data/movie_wiki.csv', index=False)"
   ]
  },
  {
   "cell_type": "code",
   "execution_count": null,
   "metadata": {},
   "outputs": [],
   "source": []
  }
 ],
 "metadata": {
  "kernelspec": {
   "display_name": "Python 3",
   "language": "python",
   "name": "python3"
  },
  "language_info": {
   "codemirror_mode": {
    "name": "ipython",
    "version": 3
   },
   "file_extension": ".py",
   "mimetype": "text/x-python",
   "name": "python",
   "nbconvert_exporter": "python",
   "pygments_lexer": "ipython3",
   "version": "3.12.2"
  }
 },
 "nbformat": 4,
 "nbformat_minor": 2
}
